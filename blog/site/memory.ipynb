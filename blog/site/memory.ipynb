{
 "cells": [
  {
   "cell_type": "markdown",
   "metadata": {},
   "source": [
    "# 4. Memory profiling python scripts with *memory_profiler*"
   ]
  },
  {
   "cell_type": "markdown",
   "metadata": {},
   "source": [
    "The *memory_profiler* package provides line-by-line output of how much memory is allocated for a process, cell, script, or workflow.\n",
    "\n",
    "***\n",
    "Installing *memory_profiler* is very easy.\n",
    "\n",
    "## Pip\n",
    "\n",
    "`pip install -U memory_profiler`\n",
    "\n",
    "## Conda\n",
    "\n",
    "`conda config --add channels conda-forge`\n",
    "\n",
    "`conda install memory_profiler`\n",
    "\n",
    "***\n",
    "\n",
    "*Memory_profiler* isn't just easy to install, it's easy to implement into your scripts, jupyter notebooks, or entire workflows. Below are a few of the many ways *memory_profiler* can be implemented. See documentation [here](https://pypi.org/project/memory-profiler/) and [here](https://github.com/pythonprofilers/memory_profiler).\n"
   ]
  },
  {
   "cell_type": "markdown",
   "metadata": {},
   "source": [
    "## 1. Simple decorator above any script function\n",
    "\n",
    "`@profile` above any function like in the script (`example.py`) below. You can set the precision with which the memory usage is reported.\n",
    "\n",
    "<img src=\"memory_images/example.py.png\" style=\"width: 250px;\" align=\"center\">\n",
    "\n",
    "Run using the following command: `python -m memory_profiler example.py` and you will generate a file called `memory_profiler.log` containing the following output.\n",
    "\n",
    "<img src=\"memory_images/example.py_output.png\" style=\"width: 600px;\" align=\"center\">"
   ]
  },
  {
   "cell_type": "markdown",
   "metadata": {},
   "source": [
    "## 2. Decorators above sub-functions\n",
    "\n",
    "`@profile` above any sub-functions (`test.py`) called in your main script (`example.py`) below.\n",
    "\n",
    "<img src=\"memory_images/test.py.png\" style=\"width: 200px;\" align=\"center\">\n",
    "<img src=\"memory_images/example.py.png\" style=\"width: 250px;\" align=\"center\">\n",
    "\n",
    "`memory_profiler.log` will output the following:\n",
    "\n",
    "<img src=\"memory_images/test.py_output.png\" style=\"width: 600px;\" align=\"center\">"
   ]
  },
  {
   "cell_type": "markdown",
   "metadata": {},
   "source": [
    "## 3. Eliminate -m memory_profile flag by importing module into the script\n",
    "\n",
    "<img src=\"memory_images/example.py_m.png\" style=\"width: 250px;\" align=\"center\">\n",
    "<img src=\"memory_images/example.py_m_output.png\" style=\"width: 600px;\" align=\"center\">"
   ]
  },
  {
   "cell_type": "markdown",
   "metadata": {},
   "source": [
    "## 4. Track and plot memory as a function of time\n",
    "\n",
    "Import and decorate exactly as the above example. Then instead of python, run via  `mprof run example.py`\n",
    "\n",
    "<img src=\"memory_images/example.py_m.png\" style=\"width: 250px;\" align=\"center\">\n",
    "\n",
    "This method of running will still lead to the familiar output we've seen in previous ways of using *memory_profiler*.\n",
    "\n",
    "<img src=\"memory_images/mprofile.dat.png\" style=\"width: 600px;\" align=\"center\">\n",
    "\n",
    "However, in addition to the line-by-line summary, the output of  `mprof run` will be saved in a file that begins with `mprofile_` and ends in `.dat`. To create a plot out of this output, run  `mprof plot --output=plot.png` and the following will be created:\n",
    "\n",
    "<img src=\"memory_images/mprof_run_plot.png\" style=\"width: 1200px;\" align=\"center\">"
   ]
  },
  {
   "cell_type": "markdown",
   "metadata": {},
   "source": [
    "## 5. A more complicated script example output\n",
    "\n",
    "<img src=\"memory_images/complex.png\" style=\"width: 700px;\" align=\"center\">\n",
    "\n",
    "<img src=\"memory_images/complex_plot.png\" style=\"width: 500px;\" align=\"center\">"
   ]
  },
  {
   "cell_type": "markdown",
   "metadata": {},
   "source": [
    "## 6. Jupyter notebook importing module\n",
    "\n",
    "When comparing or testing various functions, *memory_profiler* can be used by importing the module's various methods."
   ]
  },
  {
   "cell_type": "code",
   "execution_count": 1,
   "metadata": {},
   "outputs": [],
   "source": [
    "from memory_profiler import memory_usage"
   ]
  },
  {
   "cell_type": "code",
   "execution_count": 2,
   "metadata": {},
   "outputs": [
    {
     "name": "stdout",
     "output_type": "stream",
     "text": [
      "[45.046875, 45.046875, 45.046875, 45.046875, 45.046875]\n"
     ]
    }
   ],
   "source": [
    "mem_usage = memory_usage(-1, interval=.2, timeout=1)\n",
    "print(mem_usage)"
   ]
  },
  {
   "cell_type": "code",
   "execution_count": 3,
   "metadata": {},
   "outputs": [],
   "source": [
    "def aaa():\n",
    "    a = [1] * (10 ** 6)\n",
    "    b = [2] * (10 ** 7)\n",
    "    del b\n",
    "    return a"
   ]
  },
  {
   "cell_type": "code",
   "execution_count": 4,
   "metadata": {},
   "outputs": [
    {
     "name": "stdout",
     "output_type": "stream",
     "text": [
      "[129.24609375, 129.2578125, 136.890625, 136.890625, 136.890625, 136.890625]\n"
     ]
    }
   ],
   "source": [
    "mem_usage = memory_usage(aaa, interval=.2, timeout=1)\n",
    "print(mem_usage)"
   ]
  },
  {
   "cell_type": "markdown",
   "metadata": {},
   "source": [
    "## 7. Jupyter notebook magic function\n",
    "\n",
    "Using *memory_profiler* can be as easy as implementing notebok magic functions, as shown below."
   ]
  },
  {
   "cell_type": "code",
   "execution_count": 5,
   "metadata": {},
   "outputs": [],
   "source": [
    "%load_ext memory_profiler"
   ]
  },
  {
   "cell_type": "code",
   "execution_count": 6,
   "metadata": {},
   "outputs": [
    {
     "name": "stdout",
     "output_type": "stream",
     "text": [
      "peak memory: 136.90 MiB, increment: 0.00 MiB\n"
     ]
    }
   ],
   "source": [
    "%memit range(10000)"
   ]
  },
  {
   "cell_type": "code",
   "execution_count": 7,
   "metadata": {},
   "outputs": [
    {
     "name": "stdout",
     "output_type": "stream",
     "text": [
      "peak memory: 136.91 MiB, increment: 0.01 MiB\n"
     ]
    }
   ],
   "source": [
    "%memit range(10000000)"
   ]
  },
  {
   "cell_type": "markdown",
   "metadata": {},
   "source": [
    "## 8. Other methods of running and customizing *memory_profiler*\n",
    "\n",
    "The *memory_profile* module can be run via multi-processing and will output the memory usage of child processes. *Memory_profiler* can also be used to debug via a memory threshold. There are various ways of reporting the results of the memory profiling. Finally, there are various ways to customize the output and plotting of *memory_profiler*. For more customization and further running options, please see documentation [here](https://pypi.org/project/memory-profiler/) and [here](https://github.com/pythonprofilers/memory_profiler)."
   ]
  }
 ],
 "metadata": {
  "kernelspec": {
   "display_name": "Python 3",
   "language": "python",
   "name": "python3"
  },
  "language_info": {
   "codemirror_mode": {
    "name": "ipython",
    "version": 3
   },
   "file_extension": ".py",
   "mimetype": "text/x-python",
   "name": "python",
   "nbconvert_exporter": "python",
   "pygments_lexer": "ipython3",
   "version": "3.7.3"
  }
 },
 "nbformat": 4,
 "nbformat_minor": 4
}
