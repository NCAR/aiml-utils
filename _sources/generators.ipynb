{
 "cells": [
  {
   "cell_type": "markdown",
   "metadata": {},
   "source": [
    "# 1. Methods, iterables, and generators for reading files"
   ]
  },
  {
   "cell_type": "markdown",
   "metadata": {},
   "source": [
    "We all need to open, close, and save data to files using Python. Loading a file always involves reading the lines in the file, and possibly doing some processing on each line. An example file $\\textbf{test_data.txt}$ contains 1,000,000 rows (lines) and 3 columns separated by an empty space."
   ]
  },
  {
   "cell_type": "code",
   "execution_count": 1,
   "metadata": {},
   "outputs": [],
   "source": [
    "import time "
   ]
  },
  {
   "cell_type": "code",
   "execution_count": 11,
   "metadata": {},
   "outputs": [],
   "source": [
    "fn = \"generators/test_data.txt\""
   ]
  },
  {
   "cell_type": "markdown",
   "metadata": {},
   "source": [
    "##### The Python Method"
   ]
  },
  {
   "cell_type": "code",
   "execution_count": 12,
   "metadata": {},
   "outputs": [],
   "source": [
    "def method_loader(fn):\n",
    "    with open(fn) as fid:\n",
    "        lines = fid.readlines() # Read in lines until reaching EOF\n",
    "        lines = [line.strip(\"\\n\").split(\" \")[-1] for line in lines] # Process each line\n",
    "    return lines"
   ]
  },
  {
   "cell_type": "code",
   "execution_count": 13,
   "metadata": {},
   "outputs": [],
   "source": [
    "for processed_line in method_loader(fn):\n",
    "    break"
   ]
  },
  {
   "cell_type": "markdown",
   "metadata": {},
   "source": [
    "The entire file was read into memory with the .readlines() call, before any line processing was performed."
   ]
  },
  {
   "cell_type": "markdown",
   "metadata": {},
   "source": [
    "Reading files like this shouldn't be a problem for file sizes up to ~1G. But sometimes we have no choice and have to work with large files (sometimes hundreds of gigs). As a result the readlines operation can take a very long time. Furthermore, if the file is too large to load into memory, python will throw the __MemoryError__ exception and your program will terminate *with error*."
   ]
  },
  {
   "cell_type": "markdown",
   "metadata": {},
   "source": [
    "We frequently encounter large datafiles at NCAR. What can we do about it? \n",
    "\n",
    "Reading and processing one line at a time would solve this problem. We could even process an \"infinitely\" large file, which means any file that's too large to load fully into memory.\n",
    "\n",
    "This kind of file reading is called __lazy__ reading."
   ]
  },
  {
   "cell_type": "markdown",
   "metadata": {},
   "source": [
    "##### The Python Generator"
   ]
  },
  {
   "cell_type": "markdown",
   "metadata": {},
   "source": [
    "There is a special tool in the python toolbox that easily enables lazy reading called a generator. The generator object is built on top of python's Iterator object class, but I will cover them in reverse below."
   ]
  },
  {
   "cell_type": "code",
   "execution_count": 14,
   "metadata": {},
   "outputs": [],
   "source": [
    "def generator_loader(fn):\n",
    "    with open(fn, \"r\") as fid:\n",
    "        for line in fid:\n",
    "            yield line.strip(\"\\n\").split(\" \")[-1]"
   ]
  },
  {
   "cell_type": "markdown",
   "metadata": {},
   "source": [
    "We've replaced the return with something new named $\\color{green}{\\textbf{yield}}$. This chunk of code looks similar to the method_loader!\n",
    "\n",
    "Test it."
   ]
  },
  {
   "cell_type": "code",
   "execution_count": 53,
   "metadata": {},
   "outputs": [
    {
     "name": "stdout",
     "output_type": "stream",
     "text": [
      "0\n"
     ]
    }
   ],
   "source": [
    "for processed_line in generator_loader(fn):\n",
    "    print(processed_line)\n",
    "    break # Stop early, I don't need to print 1,000,000 lines!"
   ]
  },
  {
   "cell_type": "markdown",
   "metadata": {},
   "source": [
    "It behaves similarly when in use as compared to the method variant presented above. The big difference is that the generator version is more memory efficient because, through $\\color{green}{\\textbf{yield}}$, lines are read into memory one at a time, returned, released, ..., until reaching the end of the file (EOF). \n",
    "\n",
    "That is to say $\\color{green}{\\textbf{yield}}$ returns more than once, whereas $\\color{green}{\\textbf{return}}$ in a method signals the end (in terms of memory usage, as it is freed and the method is exited). "
   ]
  },
  {
   "cell_type": "markdown",
   "metadata": {},
   "source": [
    "Generators work nicely with serialized data ... you may have __*dumped*__ data using the pickle library before. The pickle library allows you to do that for the entire file, all in one go, or line-by-line as the example below illustrates:"
   ]
  },
  {
   "cell_type": "code",
   "execution_count": 16,
   "metadata": {},
   "outputs": [],
   "source": [
    "import pickle"
   ]
  },
  {
   "cell_type": "code",
   "execution_count": 18,
   "metadata": {},
   "outputs": [],
   "source": [
    "fn_pkl = \"generators/test_data.pkl\""
   ]
  },
  {
   "cell_type": "code",
   "execution_count": 19,
   "metadata": {},
   "outputs": [],
   "source": [
    "def write_to_pickle(data, fn):\n",
    "    with open(fn, \"wb\") as fid:\n",
    "        for line in data:\n",
    "            pickle.dump(line, fid) # Iteration over .dump"
   ]
  },
  {
   "cell_type": "code",
   "execution_count": 21,
   "metadata": {},
   "outputs": [],
   "source": [
    "write_to_pickle(\n",
    "    method_loader(fn),\n",
    "    fn_pkl\n",
    ")"
   ]
  },
  {
   "cell_type": "markdown",
   "metadata": {},
   "source": [
    "From here will assume that we do not know how many lines are in our serialized data dump:"
   ]
  },
  {
   "cell_type": "code",
   "execution_count": 22,
   "metadata": {},
   "outputs": [],
   "source": [
    "def load_from_pickle(fn):\n",
    "    with open(fn, \"rb\") as fid:\n",
    "        while True: # Keep looping with while.\n",
    "            yield pickle.load(fid) # Iteration over .load"
   ]
  },
  {
   "cell_type": "markdown",
   "metadata": {},
   "source": [
    "where the $\\color{green}{\\textbf{while True}}$ clause will keep looping over the call to load pickled data until we reach the end of the file. \n",
    "\n",
    "Test it!"
   ]
  },
  {
   "cell_type": "code",
   "execution_count": 23,
   "metadata": {},
   "outputs": [
    {
     "ename": "EOFError",
     "evalue": "Ran out of input",
     "output_type": "error",
     "traceback": [
      "\u001b[0;31m---------------------------------------------------------------------------\u001b[0m",
      "\u001b[0;31mEOFError\u001b[0m                                  Traceback (most recent call last)",
      "\u001b[0;32m<ipython-input-23-2de8c1965edf>\u001b[0m in \u001b[0;36m<module>\u001b[0;34m\u001b[0m\n\u001b[0;32m----> 1\u001b[0;31m \u001b[0;32mfor\u001b[0m \u001b[0mrow\u001b[0m \u001b[0;32min\u001b[0m \u001b[0mload_from_pickle\u001b[0m\u001b[0;34m(\u001b[0m\u001b[0mfn_pkl\u001b[0m\u001b[0;34m)\u001b[0m\u001b[0;34m:\u001b[0m\u001b[0;34m\u001b[0m\u001b[0;34m\u001b[0m\u001b[0m\n\u001b[0m\u001b[1;32m      2\u001b[0m     \u001b[0;32mcontinue\u001b[0m\u001b[0;34m\u001b[0m\u001b[0;34m\u001b[0m\u001b[0m\n",
      "\u001b[0;32m<ipython-input-22-45015fa1bf7e>\u001b[0m in \u001b[0;36mload_from_pickle\u001b[0;34m(fn)\u001b[0m\n\u001b[1;32m      2\u001b[0m     \u001b[0;32mwith\u001b[0m \u001b[0mopen\u001b[0m\u001b[0;34m(\u001b[0m\u001b[0mfn\u001b[0m\u001b[0;34m,\u001b[0m \u001b[0;34m\"rb\"\u001b[0m\u001b[0;34m)\u001b[0m \u001b[0;32mas\u001b[0m \u001b[0mfid\u001b[0m\u001b[0;34m:\u001b[0m\u001b[0;34m\u001b[0m\u001b[0;34m\u001b[0m\u001b[0m\n\u001b[1;32m      3\u001b[0m         \u001b[0;32mwhile\u001b[0m \u001b[0;32mTrue\u001b[0m\u001b[0;34m:\u001b[0m \u001b[0;31m# Keep looping with while.\u001b[0m\u001b[0;34m\u001b[0m\u001b[0;34m\u001b[0m\u001b[0m\n\u001b[0;32m----> 4\u001b[0;31m             \u001b[0;32myield\u001b[0m \u001b[0mpickle\u001b[0m\u001b[0;34m.\u001b[0m\u001b[0mload\u001b[0m\u001b[0;34m(\u001b[0m\u001b[0mfid\u001b[0m\u001b[0;34m)\u001b[0m \u001b[0;31m# Iteration over .load\u001b[0m\u001b[0;34m\u001b[0m\u001b[0;34m\u001b[0m\u001b[0m\n\u001b[0m",
      "\u001b[0;31mEOFError\u001b[0m: Ran out of input"
     ]
    }
   ],
   "source": [
    "for row in load_from_pickle(fn_pkl):\n",
    "    continue"
   ]
  },
  {
   "cell_type": "markdown",
   "metadata": {},
   "source": [
    "It failed! \n",
    "\n",
    "There must still be a signal that can be used to stop the geneartor from yielding the next line when it does not exist. \n",
    "\n",
    "Note that the *exception* python threw was an $\\color{red}{\\textbf{EOFError}}$ exception. We can catch that and use it to exit the generator:"
   ]
  },
  {
   "cell_type": "code",
   "execution_count": 24,
   "metadata": {},
   "outputs": [],
   "source": [
    "def load_from_pickle(fn):\n",
    "    with open(fn, \"rb\") as fid:\n",
    "        try:\n",
    "            while True: # We do not necessarily know how many lines are in fn\n",
    "                yield pickle.load(fid)               \n",
    "        except EOFError:\n",
    "            pass # Do nothing and leave read_from_pickle without error "
   ]
  },
  {
   "cell_type": "markdown",
   "metadata": {},
   "source": [
    "Now it will run without error:"
   ]
  },
  {
   "cell_type": "code",
   "execution_count": 25,
   "metadata": {},
   "outputs": [],
   "source": [
    "for row in load_from_pickle(fn_pkl):\n",
    "    continue\n",
    "    \n",
    "# Finishes without error"
   ]
  },
  {
   "cell_type": "markdown",
   "metadata": {},
   "source": [
    "This is rather clunky! Now we have to do *exception handling* (gasp). You might be wondering what good are python generators at helping us to simplify memory usage when this style of coding makes the workflow more complex. We could have relied on python's Iterator objects (covered next), to do lazy reading."
   ]
  },
  {
   "cell_type": "markdown",
   "metadata": {},
   "source": [
    "Fortunatly, python developers also included a generalized version of yield, $\\color{green}{\\textbf{yield from}}$ for these siuations."
   ]
  },
  {
   "cell_type": "code",
   "execution_count": 26,
   "metadata": {},
   "outputs": [],
   "source": [
    "def load_from_pickle(fn):\n",
    "    with open(fn, \"rb\") as fid:\n",
    "        yield from pickle.load(fid)"
   ]
  },
  {
   "cell_type": "code",
   "execution_count": 27,
   "metadata": {},
   "outputs": [],
   "source": [
    "for row in load_from_pickle(fn_pkl):\n",
    "    continue"
   ]
  },
  {
   "cell_type": "code",
   "execution_count": 28,
   "metadata": {},
   "outputs": [],
   "source": [
    "# Finishes without error. "
   ]
  },
  {
   "cell_type": "markdown",
   "metadata": {},
   "source": [
    "In short, generators allow us to write simple code that helps to simplfy memory usage when working with large data files."
   ]
  },
  {
   "cell_type": "markdown",
   "metadata": {},
   "source": [
    "##### The Python Iterable"
   ]
  },
  {
   "cell_type": "markdown",
   "metadata": {},
   "source": [
    "Before generators were introduced, one relied on a python __Iterator__ object to produce lazy readers. Iterable classes are not too difficult to write, but they have dependencies, in particular, they must contain the $\\color{blue}{\\textbf{__iter__}}$ and $\\color{blue}{\\textbf{__next__}}$ \"thunder\" methods. \n",
    "\n",
    "A simple example with our serialized (pickled) data from above:"
   ]
  },
  {
   "cell_type": "code",
   "execution_count": 44,
   "metadata": {},
   "outputs": [],
   "source": [
    "class read_from_pickle_iterable:\n",
    "    \n",
    "    def __init__(self, fn):\n",
    "        self.fn = fn\n",
    "        self.fid = open(self.fn, \"rb\")\n",
    "        \n",
    "    def __iter__(self):\n",
    "        return self\n",
    "    \n",
    "    def __next__(self):\n",
    "        try:\n",
    "            return pickle.load(self.fid)\n",
    "        except EOFError:\n",
    "            raise StopIteration"
   ]
  },
  {
   "cell_type": "markdown",
   "metadata": {},
   "source": [
    "The thunder method $\\color{blue}{\\textbf{__iter__}}$ returns the object itself (through self!), while $\\color{blue}{\\textbf{__next__}}$ is used to return the result of the .load call on the opened file."
   ]
  },
  {
   "cell_type": "code",
   "execution_count": 49,
   "metadata": {},
   "outputs": [],
   "source": [
    "rfpi = read_from_pickle_iterable(fn_pkl)"
   ]
  },
  {
   "cell_type": "markdown",
   "metadata": {},
   "source": [
    "Using the Iterator's $\\color{blue}{\\textbf{__next__}}$ functionality, we then grab the lines from the file one-by-one without opening the entire file:"
   ]
  },
  {
   "cell_type": "code",
   "execution_count": 51,
   "metadata": {},
   "outputs": [
    {
     "ename": "StopIteration",
     "evalue": "",
     "output_type": "error",
     "traceback": [
      "\u001b[0;31m---------------------------------------------------------------------------\u001b[0m",
      "\u001b[0;31mEOFError\u001b[0m                                  Traceback (most recent call last)",
      "\u001b[0;32m<ipython-input-44-1e1bfab26979>\u001b[0m in \u001b[0;36m__next__\u001b[0;34m(self)\u001b[0m\n\u001b[1;32m     11\u001b[0m         \u001b[0;32mtry\u001b[0m\u001b[0;34m:\u001b[0m\u001b[0;34m\u001b[0m\u001b[0;34m\u001b[0m\u001b[0m\n\u001b[0;32m---> 12\u001b[0;31m             \u001b[0;32mreturn\u001b[0m \u001b[0mpickle\u001b[0m\u001b[0;34m.\u001b[0m\u001b[0mload\u001b[0m\u001b[0;34m(\u001b[0m\u001b[0mself\u001b[0m\u001b[0;34m.\u001b[0m\u001b[0mfid\u001b[0m\u001b[0;34m)\u001b[0m\u001b[0;34m\u001b[0m\u001b[0;34m\u001b[0m\u001b[0m\n\u001b[0m\u001b[1;32m     13\u001b[0m         \u001b[0;32mexcept\u001b[0m \u001b[0mEOFError\u001b[0m\u001b[0;34m:\u001b[0m\u001b[0;34m\u001b[0m\u001b[0;34m\u001b[0m\u001b[0m\n",
      "\u001b[0;31mEOFError\u001b[0m: Ran out of input",
      "\nDuring handling of the above exception, another exception occurred:\n",
      "\u001b[0;31mStopIteration\u001b[0m                             Traceback (most recent call last)",
      "\u001b[0;32m<ipython-input-51-d7c5bd59b55e>\u001b[0m in \u001b[0;36m<module>\u001b[0;34m\u001b[0m\n\u001b[1;32m      1\u001b[0m \u001b[0;32mwhile\u001b[0m \u001b[0;32mTrue\u001b[0m\u001b[0;34m:\u001b[0m\u001b[0;34m\u001b[0m\u001b[0;34m\u001b[0m\u001b[0m\n\u001b[0;32m----> 2\u001b[0;31m     \u001b[0mnext\u001b[0m\u001b[0;34m(\u001b[0m\u001b[0mrfpi\u001b[0m\u001b[0;34m)\u001b[0m \u001b[0;31m# Use next like this\u001b[0m\u001b[0;34m\u001b[0m\u001b[0;34m\u001b[0m\u001b[0m\n\u001b[0m",
      "\u001b[0;32m<ipython-input-44-1e1bfab26979>\u001b[0m in \u001b[0;36m__next__\u001b[0;34m(self)\u001b[0m\n\u001b[1;32m     12\u001b[0m             \u001b[0;32mreturn\u001b[0m \u001b[0mpickle\u001b[0m\u001b[0;34m.\u001b[0m\u001b[0mload\u001b[0m\u001b[0;34m(\u001b[0m\u001b[0mself\u001b[0m\u001b[0;34m.\u001b[0m\u001b[0mfid\u001b[0m\u001b[0;34m)\u001b[0m\u001b[0;34m\u001b[0m\u001b[0;34m\u001b[0m\u001b[0m\n\u001b[1;32m     13\u001b[0m         \u001b[0;32mexcept\u001b[0m \u001b[0mEOFError\u001b[0m\u001b[0;34m:\u001b[0m\u001b[0;34m\u001b[0m\u001b[0;34m\u001b[0m\u001b[0m\n\u001b[0;32m---> 14\u001b[0;31m             \u001b[0;32mraise\u001b[0m \u001b[0mStopIteration\u001b[0m\u001b[0;34m\u001b[0m\u001b[0;34m\u001b[0m\u001b[0m\n\u001b[0m",
      "\u001b[0;31mStopIteration\u001b[0m: "
     ]
    }
   ],
   "source": [
    "while True:\n",
    "    next(rfpi) # Use next like this"
   ]
  },
  {
   "cell_type": "markdown",
   "metadata": {},
   "source": [
    "which dies as intended when the $\\color{red}{\\textbf{EOFError}}$ caught and the $\\color{red}{\\textbf{StopException}}$ exception was thrown using the $\\color{green}{\\textbf{raise}}$ clause. When the iterator object is rolled out in a loop (or by list(), etc) it will exit without error:"
   ]
  },
  {
   "cell_type": "code",
   "execution_count": 52,
   "metadata": {},
   "outputs": [],
   "source": [
    "for line in read_from_pickle_iterable(fn_pkl):\n",
    "    continue"
   ]
  },
  {
   "cell_type": "markdown",
   "metadata": {},
   "source": [
    "### Why even have generators when there are already iterators?"
   ]
  },
  {
   "cell_type": "markdown",
   "metadata": {},
   "source": [
    "The answer is because generators are more compact and easier to write, as you do not have to explicitly sub-class them with the $\\color{blue}{\\textbf{__iter__}}$ and $\\color{blue}{\\textbf{__next__}}$. That's taken care of under-the-hood with the generator class. But the converse is not true: iterables do not have the yield capability."
   ]
  },
  {
   "cell_type": "markdown",
   "metadata": {},
   "source": [
    "### When should I use a generator rather than a method?"
   ]
  },
  {
   "cell_type": "markdown",
   "metadata": {},
   "source": [
    "There are lots of scenerios, in addition to data loading! Note that in the first method example above, a list was returned. Do you need all elements of the list, all at the same time? If the answer is no, then you want to try to use a generator if that file is large in size!\n",
    "\n",
    "With generators one tries to balance the time spent performing operations with/on the data with memory utilization. Using them will often be determined by how your program is designed to run and utilize resources. If you are presented with a significant memory bottleneck, generators are very often the way to go. However if your program does not have said memory issue, using a generator might result in the program running significantly slower. \n",
    "\n",
    "As you use generators more and more in your work-flow, you will learn to apply them when they are needed and when to avoid them when they do not offer any benefit over using methods."
   ]
  },
  {
   "cell_type": "markdown",
   "metadata": {},
   "source": [
    "# 2. Data Loaders for ML Pipelines"
   ]
  },
  {
   "cell_type": "markdown",
   "metadata": {},
   "source": [
    "Next, let us combine methods, generators and iterators and build something a little more involved -- how about effecient data objects for preparation and data ingestion into ML models?"
   ]
  },
  {
   "cell_type": "markdown",
   "metadata": {},
   "source": [
    "We will look at the holodec data (as of Oct 12, 2020), which contains large hologram images and numerical data accompaning each image. The holodec data is saved as netCDF format -- by default the data type only supports lazy reading!"
   ]
  },
  {
   "cell_type": "code",
   "execution_count": 6,
   "metadata": {},
   "outputs": [],
   "source": [
    "from holodecml.data import *"
   ]
  },
  {
   "cell_type": "markdown",
   "metadata": {},
   "source": [
    "The main method to load the data is reproduced here (which calls other methods, not shown) "
   ]
  },
  {
   "cell_type": "code",
   "execution_count": 25,
   "metadata": {},
   "outputs": [],
   "source": [
    "def load_raw_datasets(path_data, num_particles, split, output_cols, subset):\n",
    "    ds = open_dataset(path_data, num_particles, split)\n",
    "    if subset:\n",
    "        ix = int(subset * ds['image'].shape[0])\n",
    "        inputs = ds['image'][:ix].values\n",
    "        outputs = ds[output_cols].to_dataframe()\n",
    "        outputs = outputs[outputs[\"hid\"] < (ix+1)]\n",
    "    else:\n",
    "        inputs = ds[\"image\"].values\n",
    "        outputs = ds[output_cols].to_dataframe()    \n",
    "    ds.close()\n",
    "    return inputs, outputs"
   ]
  },
  {
   "cell_type": "markdown",
   "metadata": {},
   "source": [
    "For most data files, there is nothing wrong with this method -- its compact, easy to read, and does what you want it to do. As we have seen with the file loading example above, methods quickly become memory inefficient once files become large in size."
   ]
  },
  {
   "cell_type": "code",
   "execution_count": 26,
   "metadata": {},
   "outputs": [],
   "source": [
    "path_data = \"/glade/p/cisl/aiml/ai4ess_hackathon/holodec/\"\n",
    "num_particles = \"multi\"\n",
    "split = 'train'\n",
    "subset = False\n",
    "output_cols = [\"x\", \"y\", \"z\", \"d\", \"hid\"]"
   ]
  },
  {
   "cell_type": "code",
   "execution_count": 5,
   "metadata": {},
   "outputs": [],
   "source": [
    "t0 = time.time()\n",
    "inputs, outputs = load_raw_datasets(path_data, num_particles, split, output_cols, subset)\n",
    "t1 = time.time()\n",
    "print(t1-t0)"
   ]
  },
  {
   "cell_type": "markdown",
   "metadata": {},
   "source": [
    "This file is pretty large, not large enough to cause a memory overflow, but it still takes about 5 minuites to load. "
   ]
  },
  {
   "cell_type": "markdown",
   "metadata": {},
   "source": [
    "Let us first write a lazy reader that returns the same thing data as the above method, but one row at a time. Then we will utilize special iterable objects from the Torch, Tensorflow, and Keras libraries that will enable multiprocessing with multiple simultanous workers for creating batches as well as other transformations."
   ]
  },
  {
   "cell_type": "markdown",
   "metadata": {},
   "source": [
    "### The Dataset Reader"
   ]
  },
  {
   "cell_type": "code",
   "execution_count": 27,
   "metadata": {},
   "outputs": [],
   "source": [
    "import tensorflow as tf\n",
    "from tensorflow.keras.utils import Sequence\n",
    "from torch.utils.data import Dataset, DataLoader"
   ]
  },
  {
   "cell_type": "markdown",
   "metadata": {},
   "source": [
    "Torch.utils.data.Dataset and tensorflow.keras.utils.Sequence objects both require a custom \"Reader\" class to contain the $\\color{blue}{\\textbf{__len__}}$ and $\\color{blue}{\\textbf{__getitem__}}$ thunder methods:"
   ]
  },
  {
   "cell_type": "code",
   "execution_count": 50,
   "metadata": {},
   "outputs": [],
   "source": [
    "class HologramReader(Dataset): # Sequence\n",
    "    \n",
    "    'Generates data for Keras/Tensorflow/Torch environments'\n",
    "    \n",
    "    def __init__(self, \n",
    "                 path_data, \n",
    "                 num_particles, \n",
    "                 split, \n",
    "                 output_cols, \n",
    "                 subset, \n",
    "                 maxnum_particles = 100):\n",
    "        \n",
    "        'Initialization'\n",
    "        self.ds = open_dataset(path_data, num_particles, split)\n",
    "        self.output_cols = [x for x in output_cols if x != 'hid']        \n",
    "        self.hologram_numbers = list(range(len(self.ds.hologram_number.values)))\n",
    "        self.maxnum_particles = maxnum_particles\n",
    "        \n",
    "    def __len__(self):\n",
    "        'Denotes the number of batches per epoch'\n",
    "        return len(self.hologram_numbers)\n",
    "    \n",
    "    def __getitem__(self, idx):\n",
    "        'Return one row of data'\n",
    "        \n",
    "        # Select one \"row\" from the dataset\n",
    "        hologram = self.hologram_numbers[idx]\n",
    "\n",
    "        x_out = self.ds[\"image\"][hologram].values\n",
    "        y_out = np.zeros((\n",
    "            self.maxnum_particles if self.maxnum_particles else self.num_particles, \n",
    "            len(self.output_cols)\n",
    "        ))\n",
    "        particles = np.where(self.ds[\"hid\"] == hologram + 1)[0]\n",
    "        for l, p in enumerate(particles):\n",
    "            for m, col in enumerate(self.output_cols):\n",
    "                y_out[l, m] = self.ds[col].values[p]\n",
    "\n",
    "        return x_out, y_out"
   ]
  },
  {
   "cell_type": "code",
   "execution_count": 51,
   "metadata": {},
   "outputs": [],
   "source": [
    "data_reader = HologramReader(path_data, num_particles, split, output_cols, subset)"
   ]
  },
  {
   "cell_type": "markdown",
   "metadata": {},
   "source": [
    "The method $\\color{blue}{\\textbf{__getitem__}}$ is used to select whichever hologram we want (take the one labeled 0):"
   ]
  },
  {
   "cell_type": "code",
   "execution_count": 30,
   "metadata": {},
   "outputs": [],
   "source": [
    "x, y = data_reader.__getitem__(0)"
   ]
  },
  {
   "cell_type": "code",
   "execution_count": 31,
   "metadata": {},
   "outputs": [
    {
     "name": "stdout",
     "output_type": "stream",
     "text": [
      "(600, 400) (100, 4)\n"
     ]
    }
   ],
   "source": [
    "print(x.shape, y.shape)"
   ]
  },
  {
   "cell_type": "markdown",
   "metadata": {},
   "source": [
    "Make a quick plot:"
   ]
  },
  {
   "cell_type": "code",
   "execution_count": 32,
   "metadata": {},
   "outputs": [],
   "source": [
    "import matplotlib.pyplot as plt"
   ]
  },
  {
   "cell_type": "code",
   "execution_count": 33,
   "metadata": {},
   "outputs": [
    {
     "data": {
      "text/plain": [
       "<matplotlib.image.AxesImage at 0x2ac3cfa7f550>"
      ]
     },
     "execution_count": 33,
     "metadata": {},
     "output_type": "execute_result"
    },
    {
     "data": {
      "image/png": "[encoded data removed]",
      "text/plain": [
       "<Figure size 432x288 with 1 Axes>"
      ]
     },
     "metadata": {
      "needs_background": "light"
     },
     "output_type": "display_data"
    }
   ],
   "source": [
    "plt.imshow(x)"
   ]
  },
  {
   "cell_type": "markdown",
   "metadata": {},
   "source": [
    "### The Iterator"
   ]
  },
  {
   "cell_type": "markdown",
   "metadata": {},
   "source": [
    "##### Torch"
   ]
  },
  {
   "cell_type": "markdown",
   "metadata": {},
   "source": [
    "To make the the torch/keras Reader class iterable, we can wrap a torch DataLoader object around it which will enable batching, multiprocessing capabilities, and other options. As noted, the DataLoader object requires that the Reader class contains the $\\color{blue}{\\textbf{__len__}}$ and $\\color{blue}{\\textbf{__getitem__}}$ thunder methods:"
   ]
  },
  {
   "cell_type": "code",
   "execution_count": 34,
   "metadata": {},
   "outputs": [],
   "source": [
    "data_iterator = DataLoader(\n",
    "    data_reader,\n",
    "    num_workers = 8,\n",
    "    batch_size = 32,\n",
    "    shuffle = True\n",
    ")"
   ]
  },
  {
   "cell_type": "code",
   "execution_count": 35,
   "metadata": {},
   "outputs": [
    {
     "name": "stdout",
     "output_type": "stream",
     "text": [
      "torch.Size([32, 600, 400]) torch.Size([32, 100, 4])\n"
     ]
    }
   ],
   "source": [
    "for (x, y) in data_iterator:\n",
    "    print(x.shape, y.shape)\n",
    "    break"
   ]
  },
  {
   "cell_type": "markdown",
   "metadata": {},
   "source": [
    "The DataLoader object will take care of creating independent workers that each will load the Reader and put the row data onto a queue where the data is sent back to a Manager that feeds the model. The first few calls to data_iterator will be slow as the workers have to be initialized before they can start putting data onto a queue.\n",
    "\n",
    "In a future blog post we will write our own multiprocessing worker class, but lets appreciate how easy the big three libraries have made it for us to get to this point."
   ]
  },
  {
   "cell_type": "markdown",
   "metadata": {},
   "source": [
    "##### Keras"
   ]
  },
  {
   "cell_type": "markdown",
   "metadata": {},
   "source": [
    "When training a model with Keras, all we have to do is swap $\\color{black}{\\textbf{HologramReader(Dataset)}}$ for $\\color{black}{\\textbf{HologramReader(Sequence)}}$ and make no other changes. We also could have skipped using the inheritance approach and specify the output type (torch tensor versus numpy tensor) upon return.\n",
    "\n",
    "In older Keras versions, the Reader would be fed into the Model.fit_generator method, which allowed one to toggle the number of workers and queue size. The important bit about the Sequence object is that it is thread-safe, meaning the workers spawned will not duplicate data chunks (this isn't necessarily always a problem but depends on the type of data being used).\n",
    "\n",
    "The torch DataLoader came with shuffle capability (by initializing a random order using the $\\color{blue}{\\textbf{__len__}}$ method), whereas in the Sequence object, shuffle functionality (and whatever else you want) can be enabled by adding a method typically called $\\color{blue}{\\textbf{on_epoch_end}}$ that will shuffle after some number of data points have been returned. "
   ]
  },
  {
   "cell_type": "markdown",
   "metadata": {},
   "source": [
    "##### Tensorflow"
   ]
  },
  {
   "cell_type": "markdown",
   "metadata": {},
   "source": [
    "But, since the Sequence object was recently deprecated in favor of Tensorflow's data objects, we will proceed by setting up one of those. We only have to make a few adjustments to the above Readers:"
   ]
  },
  {
   "cell_type": "code",
   "execution_count": 36,
   "metadata": {},
   "outputs": [],
   "source": [
    "class TFHologramReader: \n",
    "    \n",
    "    'Generates data for Keras/Tensorflow/Torch environments'\n",
    "    \n",
    "    def __init__(self, \n",
    "                 path_data, \n",
    "                 num_particles, \n",
    "                 split, \n",
    "                 output_cols, \n",
    "                 subset, \n",
    "                 maxnum_particles = 100):\n",
    "        \n",
    "        'Initialization'\n",
    "        self.ds = open_dataset(path_data, num_particles, split)\n",
    "        self.output_cols = [x for x in output_cols if x != 'hid']        \n",
    "        self.hologram_numbers = list(range(len(self.ds.hologram_number.values)))\n",
    "        self.maxnum_particles = maxnum_particles\n",
    "    \n",
    "    def __call__(self):\n",
    "        'Return one row of data'\n",
    "        for k, hologram in enumerate(self.hologram_numbers):\n",
    "            # Select one \"row\" from the dataset\n",
    "            x_out = self.ds[\"image\"][hologram].values\n",
    "            y_out = np.zeros((\n",
    "                self.maxnum_particles if self.maxnum_particles else self.num_particles, \n",
    "                len(self.output_cols)\n",
    "            ))\n",
    "            particles = np.where(self.ds[\"hid\"] == hologram + 1)[0]\n",
    "            for l, p in enumerate(particles):\n",
    "                for m, col in enumerate(self.output_cols):\n",
    "                    y_out[l, m] = self.ds[col].values[p]\n",
    "\n",
    "            yield tf.convert_to_tensor(x_out), tf.convert_to_tensor(y_out)"
   ]
  },
  {
   "cell_type": "markdown",
   "metadata": {},
   "source": [
    "Note that this Reader's $\\color{blue}{\\textbf{__call__}}$ is a generator, whereas before we used a method."
   ]
  },
  {
   "cell_type": "markdown",
   "metadata": {},
   "source": [
    "Calling and using the reader is the same as before. First, initialize an instance by setting the input variables:"
   ]
  },
  {
   "cell_type": "code",
   "execution_count": 37,
   "metadata": {},
   "outputs": [],
   "source": [
    "tf_data_generator = TFHologramReader(\n",
    "    path_data, num_particles, split, output_cols, subset\n",
    ")"
   ]
  },
  {
   "cell_type": "markdown",
   "metadata": {},
   "source": [
    "Then we wrap Tensorflow's Dataset object around the generator, using the $\\color{blue}{\\textbf{from_generator}}$ method within the Dataset object, and setting the tensor types explictly:"
   ]
  },
  {
   "cell_type": "code",
   "execution_count": 38,
   "metadata": {},
   "outputs": [],
   "source": [
    "tf_data_iterator = tf.data.Dataset.from_generator(\n",
    "    tf_data_generator, \n",
    "    (tf.dtypes.float32, tf.dtypes.float32)\n",
    ")"
   ]
  },
  {
   "cell_type": "markdown",
   "metadata": {},
   "source": [
    "Setting the batch size can be done by"
   ]
  },
  {
   "cell_type": "code",
   "execution_count": 39,
   "metadata": {},
   "outputs": [],
   "source": [
    "tf_data_iterator = tf_data_iterator.batch(32)"
   ]
  },
  {
   "cell_type": "markdown",
   "metadata": {},
   "source": [
    "Shuffling is a little more complex. Since a generator is in play, a memory buffer of size buffer_size will be created and rows put into it. Then, batches are selected from it and returned. Note that there will be a delay in the begining as the buffer has to fill up:"
   ]
  },
  {
   "cell_type": "code",
   "execution_count": 42,
   "metadata": {},
   "outputs": [],
   "source": [
    "tf_data_iterator = tf_data_iterator.shuffle(buffer_size=100)"
   ]
  },
  {
   "cell_type": "markdown",
   "metadata": {},
   "source": [
    "To get true random sampling, the buffer size would need to be the size of the data set."
   ]
  },
  {
   "cell_type": "markdown",
   "metadata": {},
   "source": [
    "In practice, one should shuffle the hologram numbers list in the TFReader upon initialization since they are available, similar to what needed to be done when using the keras Sequence object. For the sake of illustration we use tensorflows method for shuffling."
   ]
  },
  {
   "cell_type": "code",
   "execution_count": 43,
   "metadata": {},
   "outputs": [
    {
     "name": "stdout",
     "output_type": "stream",
     "text": [
      "(32, 600, 400) (32, 100, 4)\n"
     ]
    }
   ],
   "source": [
    "for (x, y) in tf_data_iterator:\n",
    "    print(x.shape, y.shape)\n",
    "    break"
   ]
  },
  {
   "cell_type": "markdown",
   "metadata": {},
   "source": [
    "The number of workers can be set when training the model through the .fit() super-class (which contains an machinery for rolling out the Reader and feeding the batches it into the model):"
   ]
  },
  {
   "cell_type": "raw",
   "metadata": {},
   "source": [
    "Model.fit(\n",
    "    tf_data_iterator,\n",
    "    ...,\n",
    "    use_multiprocessing = True, \n",
    "    workers = 8,\n",
    "    max_queue_size = 100\n",
    ")"
   ]
  },
  {
   "cell_type": "markdown",
   "metadata": {},
   "source": [
    "Note that we could use any of these approaches with either ML language, though the torch and tensorflow versions are superior to the now-deparecated Sequence. Enabling multiprocessing with Tensorflow Data objects is rather tricky though, we just let the Keras methods handle that here. We will cover that another time!"
   ]
  },
  {
   "cell_type": "markdown",
   "metadata": {},
   "source": [
    "Note that these special iterator objects contain many other features not covered here, so be sure to check out the documentation!"
   ]
  },
  {
   "cell_type": "markdown",
   "metadata": {},
   "source": [
    "Tensorflow Dataset: [https://www.tensorflow.org/api_docs/python/tf/data/Dataset](https://www.tensorflow.org/api_docs/python/tf/data/Dataset)"
   ]
  },
  {
   "cell_type": "markdown",
   "metadata": {},
   "source": [
    "Torch Dataset: [https://pytorch.org/docs/stable/data.html](https://pytorch.org/docs/stable/data.html)"
   ]
  },
  {
   "cell_type": "markdown",
   "metadata": {},
   "source": [
    "Feel free to email me (John Schreck, schreck@ucar.edu) with any questions / mistakes / whatever!"
   ]
  },
  {
   "cell_type": "code",
   "execution_count": null,
   "metadata": {},
   "outputs": [],
   "source": []
  }
 ],
 "metadata": {
  "kernelspec": {
   "display_name": "Python 3",
   "language": "python",
   "name": "python3"
  },
  "language_info": {
   "codemirror_mode": {
    "name": "ipython",
    "version": 3
   },
   "file_extension": ".py",
   "mimetype": "text/x-python",
   "name": "python",
   "nbconvert_exporter": "python",
   "pygments_lexer": "ipython3",
   "version": "3.8.3"
  }
 },
 "nbformat": 4,
 "nbformat_minor": 4
}
