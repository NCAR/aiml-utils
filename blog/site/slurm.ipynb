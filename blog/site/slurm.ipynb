{
 "cells": [
  {
   "cell_type": "markdown",
   "metadata": {},
   "source": [
    "# 5. Helpful SLURM Commands\n",
    "David John Gagne\n",
    "\n",
    "SLURM is currently the scheduler on the Casper cluster, which means it is used to manage the queueing and scheduling of jobs. You are likely very familiar with sbatch and squeue at this point. SLURM also has a whole suite of other commands that give you an incredibly detailed view into the usage of the cluster by yourself and everyone else. This blog will provide some insights to help you better manage your own jobs and keep track of how busy Casper is."
   ]
  },
  {
   "cell_type": "markdown",
   "metadata": {},
   "source": [
    "## Track your job memory and CPU usage with sacct\n",
    "`sacct` queries the SLURM scheduler database to find out how well you or any other user has utilized their requested resources on a job by job basis. The default output of sacct is not very useful, but with a few alterations to the command, you can get a wealth of information.\n",
    "\n",
    "I recommend running sacct in the following format (Note that ! allows you to run a command line program within a notebook. Do not copy the ! if you want to use the command in the terminal window):"
   ]
  },
  {
   "cell_type": "code",
   "execution_count": 2,
   "metadata": {},
   "outputs": [
    {
     "name": "stdout",
     "output_type": "stream",
     "text": [
      "/bin/sh: sacct: command not found\n"
     ]
    }
   ],
   "source": [
    "! sacct --units=G --format=\"User,JobName,JobID,AllocNodes,ReqCPUs,Elapsed,CPUTime,TotalCPU,ReqMem,MaxRSS,ExitCode,State\" -S 2020-12-01 -E 2020-12-31 -u dgagne"
   ]
  },
  {
   "cell_type": "markdown",
   "metadata": {},
   "source": [
    "The command breaks down into these parts:\n",
    "- `--units=G`: Print all memory-related outputs in Gigabytes. You can also use M or K for Megabytes and Kilobytes\n",
    "- `--format=\"...\"`: The list of columns to output. The full list can be found [here](https://slurm.schedmd.com/sacct.html). \n",
    "- `-S 2020-12-01`: The start date for the query. Can be adjusted so only recent jobs are visible.\n",
    "- `-E 2020-12-31`: The end date for the query. \n",
    "- `-u dgagne`: The username. Can be a comma separated list of users, like `-u dgagne,cbecker,schreck,ggantos`\n",
    "\n",
    "What does the output mean? The most relevant comparisons relate to CPU and memory usage. \n",
    "- Elapsed: total time the job runs in Day-Hour:Minute:Second format.\n",
    "- CPUTime: total time the CPUs are allocated, which should be close to Elapsed * ReqCPUs. \n",
    "- TotalCPU: The total amount of time the CPUs are in use by the user or the system. If this is far less than CPUTime, then you are requesting too many CPUs for your job. Note that TotalCPU does not account for child processes, so if you are running multiprocessing or dask, this number may be deceptively low. \n",
    "\n",
    "For memory usage\n",
    "- ReqMem: The total amount of memory the job requested.\n",
    "- MaxRSS: The maximum amount of memory the job used. If MaxRSS is far less than ReqMem, then decrease future memory requests. If it is the same or close to the same as ReqMem and your job is taking a longer than expected time to run, the program may be swapping memory to disk. You should ask for more memory in that case. "
   ]
  },
  {
   "cell_type": "markdown",
   "metadata": {},
   "source": [
    "## Track current cluster usage with sinfo\n",
    "`sinfo` prints out information about the current usage of every node in the cluster. It is helpful to see which nodes have what resources, and you can see how busy each node is. This may be especially useful when you are about to launch a multi-GPU or large memory job and want to make sure the memory and GPUs are available. The default `sinfo` call provides a very high level summary. Just like `sacct`, I recommend running the following command:\n"
   ]
  },
  {
   "cell_type": "code",
   "execution_count": 3,
   "metadata": {},
   "outputs": [
    {
     "name": "stdout",
     "output_type": "stream",
     "text": [
      "/bin/sh: sinfo: command not found\n"
     ]
    }
   ],
   "source": [
    "! sinfo --Format=\"NodeHost:15,Features:50,CPUs:5,CPUsLoad:10,Gres:30,GresUsed:50,AllocMem:.15,FreeMem:.15  ,StateLong:15,Available:6\""
   ]
  },
  {
   "cell_type": "markdown",
   "metadata": {},
   "source": [
    "The columns perform the following uses:\n",
    "- NodeHost: Prints the name of each node.\n",
    "- Features: Lists the CPU type (skylake or cascadelake), and the number and type of GPU if any\n",
    "- CPUs: Number of CPUs available, which is number of sockets * number of cores * threads per core (only for multithreading)\n",
    "- CPUsLoad: How many CPUs are currently being used\n",
    "- Gres: Number and type of GPUs\n",
    "- GresUsed: How many GPUs are currently allocated on the node\n",
    "- AllocMem: How much memory is allocated in MB\n",
    "- FreeMem: How much memory is free in MB\n",
    "- StateLong: Node usage, which can be idle, mixed, allocated, reserved, or drained\n",
    "- Available: up or down"
   ]
  },
  {
   "cell_type": "code",
   "execution_count": null,
   "metadata": {},
   "outputs": [],
   "source": []
  }
 ],
 "metadata": {
  "kernelspec": {
   "display_name": "Python 3",
   "language": "python",
   "name": "python3"
  },
  "language_info": {
   "codemirror_mode": {
    "name": "ipython",
    "version": 3
   },
   "file_extension": ".py",
   "mimetype": "text/x-python",
   "name": "python",
   "nbconvert_exporter": "python",
   "pygments_lexer": "ipython3",
   "version": "3.7.3"
  }
 },
 "nbformat": 4,
 "nbformat_minor": 4
}
